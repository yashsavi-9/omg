{
 "cells": [
  {
   "cell_type": "code",
   "execution_count": 1,
   "id": "c4ce6d9d-9865-430c-b6fa-473c805e560f",
   "metadata": {},
   "outputs": [],
   "source": [
    "#python to mysql\n"
   ]
  },
  {
   "cell_type": "code",
   "execution_count": 4,
   "id": "f010f775-308f-4a14-9bae-0eba2ee5d35f",
   "metadata": {},
   "outputs": [
    {
     "ename": "ModuleNotFoundError",
     "evalue": "No module named 'pymysql'",
     "output_type": "error",
     "traceback": [
      "\u001b[1;31m---------------------------------------------------------------------------\u001b[0m",
      "\u001b[1;31mModuleNotFoundError\u001b[0m                       Traceback (most recent call last)",
      "Cell \u001b[1;32mIn[4], line 1\u001b[0m\n\u001b[1;32m----> 1\u001b[0m \u001b[38;5;28;01mimport\u001b[39;00m\u001b[38;5;250m \u001b[39m\u001b[38;5;21;01mpymysql\u001b[39;00m\u001b[38;5;250m \u001b[39m\u001b[38;5;28;01mas\u001b[39;00m\u001b[38;5;250m \u001b[39m\u001b[38;5;21;01mpy\u001b[39;00m\n\u001b[0;32m      2\u001b[0m \u001b[38;5;28mprint\u001b[39m(\u001b[38;5;124m'\u001b[39m\u001b[38;5;124mdone\u001b[39m\u001b[38;5;124m'\u001b[39m)\n",
      "\u001b[1;31mModuleNotFoundError\u001b[0m: No module named 'pymysql'"
     ]
    }
   ],
   "source": [
    "import pymysql as py\n",
    "print('done')"
   ]
  },
  {
   "cell_type": "code",
   "execution_count": 5,
   "id": "6d96de5b-dc70-4d76-bb04-c8ee16f11d96",
   "metadata": {},
   "outputs": [
    {
     "name": "stdout",
     "output_type": "stream",
     "text": [
      "Note: you may need to restart the kernel to use updated packages.\n"
     ]
    },
    {
     "name": "stderr",
     "output_type": "stream",
     "text": [
      "WARNING: Retrying (Retry(total=4, connect=None, read=None, redirect=None, status=None)) after connection broken by 'NewConnectionError('<pip._vendor.urllib3.connection.HTTPSConnection object at 0x0000021CBBA3B8C0>: Failed to establish a new connection: [Errno 11002] getaddrinfo failed')': /simple/pymysql/\n",
      "WARNING: Retrying (Retry(total=3, connect=None, read=None, redirect=None, status=None)) after connection broken by 'NewConnectionError('<pip._vendor.urllib3.connection.HTTPSConnection object at 0x0000021CBBB48410>: Failed to establish a new connection: [Errno 11002] getaddrinfo failed')': /simple/pymysql/\n",
      "WARNING: Retrying (Retry(total=2, connect=None, read=None, redirect=None, status=None)) after connection broken by 'NewConnectionError('<pip._vendor.urllib3.connection.HTTPSConnection object at 0x0000021CBBB48690>: Failed to establish a new connection: [Errno 11002] getaddrinfo failed')': /simple/pymysql/\n",
      "WARNING: Retrying (Retry(total=1, connect=None, read=None, redirect=None, status=None)) after connection broken by 'NewConnectionError('<pip._vendor.urllib3.connection.HTTPSConnection object at 0x0000021CBBB48910>: Failed to establish a new connection: [Errno 11002] getaddrinfo failed')': /simple/pymysql/\n",
      "WARNING: Retrying (Retry(total=0, connect=None, read=None, redirect=None, status=None)) after connection broken by 'NewConnectionError('<pip._vendor.urllib3.connection.HTTPSConnection object at 0x0000021CBBB48B90>: Failed to establish a new connection: [Errno 11002] getaddrinfo failed')': /simple/pymysql/\n",
      "ERROR: Could not find a version that satisfies the requirement pymysql (from versions: none)\n",
      "ERROR: No matching distribution found for pymysql\n"
     ]
    }
   ],
   "source": [
    "pip install pymysql"
   ]
  },
  {
   "cell_type": "code",
   "execution_count": 1,
   "id": "d856a765-6d44-4c1a-8a87-f97faac58461",
   "metadata": {},
   "outputs": [
    {
     "name": "stdout",
     "output_type": "stream",
     "text": [
      "Collecting pymysql\n",
      "  Downloading PyMySQL-1.1.1-py3-none-any.whl.metadata (4.4 kB)\n",
      "Downloading PyMySQL-1.1.1-py3-none-any.whl (44 kB)\n",
      "Installing collected packages: pymysql\n",
      "Successfully installed pymysql-1.1.1\n",
      "Note: you may need to restart the kernel to use updated packages.\n"
     ]
    }
   ],
   "source": [
    "pip install pymysql"
   ]
  },
  {
   "cell_type": "code",
   "execution_count": 1,
   "id": "16e80651-b3b9-4d6b-b64c-21d37caeea66",
   "metadata": {},
   "outputs": [
    {
     "name": "stdout",
     "output_type": "stream",
     "text": [
      "done\n"
     ]
    }
   ],
   "source": [
    "import pymysql as py\n",
    "print('done')"
   ]
  },
  {
   "cell_type": "code",
   "execution_count": 5,
   "id": "262ac54b-d55a-4872-8911-07d4948200ed",
   "metadata": {},
   "outputs": [],
   "source": [
    "##conn=py.connect(user='root',\n",
    " #         password=1234,\n",
    "  #        host='localhost',\n",
    "   #       autocommit = True)\n",
    "#print('connection created successfully!!')"
   ]
  },
  {
   "cell_type": "code",
   "execution_count": 6,
   "id": "0258166d-27da-4de2-9339-bffa0c783b96",
   "metadata": {},
   "outputs": [
    {
     "name": "stdout",
     "output_type": "stream",
     "text": [
      "done\n"
     ]
    }
   ],
   "source": [
    "#cur=conn.cursor()\n",
    "#print('done')"
   ]
  },
  {
   "cell_type": "code",
   "execution_count": 7,
   "id": "b351d8d7-b871-4ac6-9aaf-fdac51be7065",
   "metadata": {},
   "outputs": [
    {
     "name": "stdout",
     "output_type": "stream",
     "text": [
      "done\n"
     ]
    }
   ],
   "source": [
    "#query='''create database iitm_day5'''\n",
    "#cur.execute()\n",
    "print('done')"
   ]
  },
  {
   "cell_type": "code",
   "execution_count": 8,
   "id": "f16800cd-3048-4b7d-ac5c-d884b92367bc",
   "metadata": {},
   "outputs": [
    {
     "name": "stdout",
     "output_type": "stream",
     "text": [
      "done\n"
     ]
    }
   ],
   "source": [
    " #query='USE iitm_day5'\n",
    "#cur.execute(query)\n",
    "print('done')"
   ]
  },
  {
   "cell_type": "code",
   "execution_count": 10,
   "id": "f480a5da-91f9-47ee-bf8f-1a8a27807745",
   "metadata": {},
   "outputs": [
    {
     "name": "stdout",
     "output_type": "stream",
     "text": [
      "done\n"
     ]
    }
   ],
   "source": [
    "#query='''create table student_details\n",
    "#(\n",
    "#SID int not null,\n",
    "#student_name varchar(50),\n",
    "#course varchar(15),\n",
    "#address varchar(50),\n",
    "#scholarship float\n",
    "#);'''\n",
    "#cur.execute(query)\n",
    "print('done')"
   ]
  },
  {
   "cell_type": "code",
   "execution_count": 12,
   "id": "543017af-ac9a-4ed9-803c-ac2de05cdcb4",
   "metadata": {},
   "outputs": [
    {
     "name": "stdout",
     "output_type": "stream",
     "text": [
      "done\n"
     ]
    }
   ],
   "source": [
    "#query='''insert into student_details\n",
    "#values\n",
    "#(101,\"mohan sharma\",\"BCA\",\"delhi janakpuri\",5000),\n",
    "#(102,\"ravi sharma\",\"mCA\",\"south delhi\",5500);\n",
    "#'''\n",
    "#cur.execute(query)\n",
    "print('done')"
   ]
  },
  {
   "cell_type": "code",
   "execution_count": 13,
   "id": "3a4b1572-e9fa-4db9-a049-26b570f16502",
   "metadata": {},
   "outputs": [
    {
     "name": "stdout",
     "output_type": "stream",
     "text": [
      "done\n"
     ]
    }
   ],
   "source": [
    "n=3\n",
    "for i in range(n):\n",
    "    #sid=int(input('enter roll no/sid:'))\n",
    "    #name=input('enter your name')\n",
    "    #course=input('enter your course')\n",
    "    #address=input('enter your address')\n",
    "    #scholarship=float(input('enter your scholarship amt'))\n",
    "    #q=f'''insert into student_details values\n",
    "    #({sid},\"{name}\",\"{course}\",\"{address}\",{scholarship});'''\n",
    "    #cur.execute(q)\n",
    "#   print('recorded inserted successfully')\n",
    "print('done')"
   ]
  },
  {
   "cell_type": "code",
   "execution_count": 15,
   "id": "4313069f-5bfe-4726-b197-34cc7e9d0353",
   "metadata": {},
   "outputs": [],
   "source": [
    "def show_records(db,table):\n",
    "    #q=f'''select* from {do}.{table}};'''\n",
    "    #cur.execute(q)\n",
    "    #for i in cur.description():\n",
    "       # print(i)\n",
    "    #records=cur.fetchall()\n",
    "    #import pandas as pd\n",
    "    #pd.DataFrame(records)\n",
    "    return  df"
   ]
  },
  {
   "cell_type": "code",
   "execution_count": 16,
   "id": "2aa9c60e-bdc3-41e7-b539-7316d61738bd",
   "metadata": {},
   "outputs": [],
   "source": [
    "#all_columns=[]\n",
    "#for i in cur.description():\n",
    " #   all_columns.append(i[0])"
   ]
  },
  {
   "cell_type": "code",
   "execution_count": 17,
   "id": "ecaf3e45-1ed5-405e-a2ae-641855eccaaf",
   "metadata": {},
   "outputs": [],
   "source": [
    "#import pandas as pd\n",
    "#df=pd.DataFrame(record,columns=all_columns)\n"
   ]
  },
  {
   "cell_type": "code",
   "execution_count": null,
   "id": "bee744d3-25be-41f7-8a98-35e5bdea6f56",
   "metadata": {},
   "outputs": [],
   "source": [
    "show_records('iitm_day5','students_details')"
   ]
  }
 ],
 "metadata": {
  "kernelspec": {
   "display_name": "Python 3 (ipykernel)",
   "language": "python",
   "name": "python3"
  },
  "language_info": {
   "codemirror_mode": {
    "name": "ipython",
    "version": 3
   },
   "file_extension": ".py",
   "mimetype": "text/x-python",
   "name": "python",
   "nbconvert_exporter": "python",
   "pygments_lexer": "ipython3",
   "version": "3.13.5"
  }
 },
 "nbformat": 4,
 "nbformat_minor": 5
}
