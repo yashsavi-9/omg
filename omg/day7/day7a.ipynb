{
 "cells": [
  {
   "cell_type": "code",
   "execution_count": 1,
   "id": "e6b18c48-3c88-40d4-8d57-833db17a9fee",
   "metadata": {},
   "outputs": [],
   "source": [
    "class Person:\n",
    "    def __init__(self, name, age):\n",
    "        self.name = name\n",
    "        self.age = age\n",
    "\n",
    "    def get_info(self):\n",
    "        print(f\"Name: {self.name}, Age: {self.age}\")\n",
    "\n",
    "\n",
    "class Student(Person):\n",
    "    def __init__(self, name, age, student_id, course):\n",
    "        super().__init__(name, age)\n",
    "        self.student_id = student_id\n",
    "        self.course = course\n",
    "\n",
    "    def get_info(self):\n",
    "        super().get_info()\n",
    "        print(f\"Student ID: {self.student_id}, Course: {self.course}\")\n",
    "\n",
    "\n",
    "class Teacher(Person):\n",
    "    def __init__(self, name, age, employee_id, subject):\n",
    "        super().__init__(name, age)\n",
    "        self.employee_id = employee_id\n",
    "        self.subject = subject\n",
    "\n",
    "    def get_info(self):\n",
    "        super().get_info()\n",
    "        print(f\"Employee ID: {self.employee_id}, Subject: {self.subject}\")\n",
    "\n",
    "\n",
    "class TechStudent(Student):\n",
    "    def __init__(self, name, age, student_id, course, programming_language):\n",
    "        super().__init__(name, age, student_id, course)\n",
    "        self.programming_language = programming_language\n",
    "\n",
    "    def get_info(self):\n",
    "        super().get_info()\n",
    "        print(f\"Programming Language: {self.programming_language}\")\n",
    "\n",
    "\n",
    "\n"
   ]
  },
  {
   "cell_type": "code",
   "execution_count": 2,
   "id": "416bfc57-2602-4662-b46d-64fba2d367c1",
   "metadata": {},
   "outputs": [
    {
     "name": "stdout",
     "output_type": "stream",
     "text": [
      "Name: Riya, Age: 20\n",
      "Student ID: ST101, Course: BCA\n",
      "Name: Mr. Sharma, Age: 45\n",
      "Employee ID: EMP501, Subject: Mathematics\n",
      "Name: Aman, Age: 21\n",
      "Student ID: ST202, Course: B.Tech\n",
      "Programming Language: Python\n"
     ]
    }
   ],
   "source": [
    "s1 = Student(\"Riya\", 20, \"ST101\", \"BCA\")\n",
    "s1.get_info()\n",
    "\n",
    "t1 = Teacher(\"Mr. Sharma\", 45, \"EMP501\", \"Mathematics\")\n",
    "t1.get_info()\n",
    "\n",
    "ts1 = TechStudent(\"Aman\", 21, \"ST202\", \"B.Tech\", \"Python\")\n",
    "ts1.get_info()"
   ]
  },
  {
   "cell_type": "code",
   "execution_count": 3,
   "id": "f5bc5cd9-9e67-4e22-afaa-d0a41f3b6e66",
   "metadata": {},
   "outputs": [
    {
     "name": "stdout",
     "output_type": "stream",
     "text": [
      "Playing audio...\n",
      "Playing video...\n",
      "Stopping audio...\n",
      "Stopping video...\n"
     ]
    }
   ],
   "source": [
    "from abc import ABC, abstractmethod\n",
    "\n",
    "class MediaPlayer(ABC):\n",
    "    @abstractmethod\n",
    "    def play(self):\n",
    "        pass\n",
    "\n",
    "    @abstractmethod\n",
    "    def stop(self):\n",
    "        pass\n",
    "\n",
    "\n",
    "class AudioPlayer(MediaPlayer):\n",
    "    def play(self):\n",
    "        print(\"Playing audio...\")\n",
    "\n",
    "    def stop(self):\n",
    "        print(\"Stopping audio...\")\n",
    "\n",
    "\n",
    "class VideoPlayer(MediaPlayer):\n",
    "    def play(self):\n",
    "        print(\"Playing video...\")\n",
    "\n",
    "    def stop(self):\n",
    "        print(\"Stopping video...\")\n",
    "\n",
    "\n",
    "class UniversalPlayer(AudioPlayer, VideoPlayer):\n",
    "    def play_all(self):\n",
    "        AudioPlayer.play(self)\n",
    "        VideoPlayer.play(self)\n",
    "\n",
    "    def stop_all(self):\n",
    "        AudioPlayer.stop(self)\n",
    "        VideoPlayer.stop(self)\n",
    "\n",
    "\n",
    "# Usage\n",
    "u = UniversalPlayer()\n",
    "u.play_all()\n",
    "u.stop_all()\n"
   ]
  },
  {
   "cell_type": "code",
   "execution_count": null,
   "id": "5f23ac01-edfc-41e1-88a4-cd78e6914bab",
   "metadata": {},
   "outputs": [],
   "source": []
  }
 ],
 "metadata": {
  "kernelspec": {
   "display_name": "Python 3 (ipykernel)",
   "language": "python",
   "name": "python3"
  },
  "language_info": {
   "codemirror_mode": {
    "name": "ipython",
    "version": 3
   },
   "file_extension": ".py",
   "mimetype": "text/x-python",
   "name": "python",
   "nbconvert_exporter": "python",
   "pygments_lexer": "ipython3",
   "version": "3.13.5"
  }
 },
 "nbformat": 4,
 "nbformat_minor": 5
}
