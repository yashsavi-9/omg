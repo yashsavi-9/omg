{
 "cells": [
  {
   "cell_type": "code",
   "execution_count": 1,
   "id": "24e685e4-6eb4-43ea-ab3e-c42cda4ac684",
   "metadata": {},
   "outputs": [],
   "source": [
    "#diff between a list and tuple\n",
    "#list is mutable, the value can be changed.\n",
    "#tuple is immutable and cannot be changed.\n",
    "#list is created by {}\n",
    "#tuple is created by ()\n",
    "\n"
   ]
  },
  {
   "cell_type": "code",
   "execution_count": 4,
   "id": "136a674e-177c-4c3b-9755-7564ea989310",
   "metadata": {},
   "outputs": [
    {
     "name": "stdin",
     "output_type": "stream",
     "text": [
      "enter a int value 1\n"
     ]
    }
   ],
   "source": [
    "#input() is used to get input from the user.it returns string datatype.\n",
    "data=int(input('enter a int value'))"
   ]
  },
  {
   "cell_type": "code",
   "execution_count": 5,
   "id": "5ed8d095-a9ef-462e-959d-27c387cc0fd5",
   "metadata": {},
   "outputs": [
    {
     "name": "stdout",
     "output_type": "stream",
     "text": [
      "{'yash': [1, 2, 3], 'tejas': [1, 2, 3], 'ayush': [1, 2, 3]}\n"
     ]
    }
   ],
   "source": [
    "#python dictionaries are heterogenous datatype, which helps us to store multiple values in it.\n",
    "#we use key va;ues in dictionries\n",
    "dict={'yash':[1,2,3],\n",
    "     'tejas':[1,2,3],\n",
    "     'ayush':[1,2,3]}\n",
    "print(dict)"
   ]
  },
  {
   "cell_type": "code",
   "execution_count": 6,
   "id": "4b1d707e-4706-48e6-bf52-5a2f9c367acb",
   "metadata": {},
   "outputs": [
    {
     "name": "stdout",
     "output_type": "stream",
     "text": [
      "0\n",
      "1\n",
      "2\n",
      "3\n",
      "4\n"
     ]
    }
   ],
   "source": [
    "#for loop in python is used to iterate between a range.\n",
    "for i in range(5):\n",
    "    print(i)"
   ]
  },
  {
   "cell_type": "code",
   "execution_count": 7,
   "id": "cfb06d68-83c3-4c53-87e6-e8bceb87095a",
   "metadata": {},
   "outputs": [],
   "source": [
    "#exception handlng is a way to handle errors in python.\n",
    "#try is used to check a code.it is usually the first block of the three.\n",
    "\n",
    "#except is used to handle the exception\n"
   ]
  },
  {
   "cell_type": "code",
   "execution_count": 8,
   "id": "9debbc7c-7aa9-4829-8cba-eeb614ea7547",
   "metadata": {},
   "outputs": [],
   "source": [
    "#python modules are packages which provide us methods and dataframes to use in the code, which makes it easier to code.\n",
    "#import math : it imports the whole module \n",
    "#from math import sqrt: it calls the method from the module math."
   ]
  },
  {
   "cell_type": "code",
   "execution_count": 12,
   "id": "9fef0da0-f334-4762-9b86-cc74a53c3aa0",
   "metadata": {},
   "outputs": [
    {
     "data": {
      "text/plain": [
       "4.898979485566356"
      ]
     },
     "execution_count": 12,
     "metadata": {},
     "output_type": "execute_result"
    }
   ],
   "source": [
    "import math \n",
    "\n",
    "from math import sqrt\n",
    "sqrt(24)"
   ]
  },
  {
   "cell_type": "code",
   "execution_count": 16,
   "id": "2d8eaf6f-60b0-45f9-b7bb-71b0f967bf97",
   "metadata": {},
   "outputs": [],
   "source": [
    "#object oriented programming in python is using objects and classes in the program.\n",
    "#components of oops are encapsulation,abstraction,polymorphism,inheritence.\n",
    "#classes: A class is like a blueprint for creating things.\n",
    "#objects: an object is the actual thing created using the class.\n",
    "class yash:\n",
    "    def yash(self):\n",
    "        print('this is a class')\n",
    "        "
   ]
  },
  {
   "cell_type": "code",
   "execution_count": 17,
   "id": "513b5d37-2d07-480f-b316-f34c631a106f",
   "metadata": {},
   "outputs": [],
   "source": [
    "y=yash()"
   ]
  },
  {
   "cell_type": "code",
   "execution_count": 18,
   "id": "89ae6db7-1eab-4ffd-8afc-b81862dfa45d",
   "metadata": {},
   "outputs": [
    {
     "name": "stdout",
     "output_type": "stream",
     "text": [
      "this is a class\n"
     ]
    }
   ],
   "source": [
    "y.yash()"
   ]
  },
  {
   "cell_type": "code",
   "execution_count": 19,
   "id": "8be06d59-e950-4a1c-a000-4c985f72f5ec",
   "metadata": {},
   "outputs": [],
   "source": [
    "#list comprehenion: it is a short or simple way to create a new list.\n"
   ]
  },
  {
   "cell_type": "code",
   "execution_count": 39,
   "id": "0c0ebd5e-6d01-4147-952b-63ceb5607ce7",
   "metadata": {},
   "outputs": [],
   "source": [
    "def calculate_area(int):\n",
    "    import math \n",
    "    r=int\n",
    "    area=3.14*(r*r)\n",
    "    return area\n"
   ]
  },
  {
   "cell_type": "code",
   "execution_count": 40,
   "id": "e4741f32-f708-49f8-b2f1-44610bb07e4e",
   "metadata": {},
   "outputs": [
    {
     "data": {
      "text/plain": [
       "78.5"
      ]
     },
     "execution_count": 40,
     "metadata": {},
     "output_type": "execute_result"
    }
   ],
   "source": [
    "calculate_area(5)"
   ]
  },
  {
   "cell_type": "code",
   "execution_count": 44,
   "id": "f2515640-e927-4b8b-8749-60ac6652f200",
   "metadata": {},
   "outputs": [],
   "source": [
    "def intro(name,age):\n",
    "    print(f\"hello! {name}, you are {age} years old\")"
   ]
  },
  {
   "cell_type": "code",
   "execution_count": 45,
   "id": "41c62795-ae34-4479-9189-b514e41353c8",
   "metadata": {},
   "outputs": [
    {
     "name": "stdout",
     "output_type": "stream",
     "text": [
      "hello! yash, you are 20 years old\n"
     ]
    }
   ],
   "source": [
    "intro('yash',20)"
   ]
  },
  {
   "cell_type": "code",
   "execution_count": 49,
   "id": "6e0b30da-2b24-40a0-825c-bea31994d77c",
   "metadata": {},
   "outputs": [
    {
     "name": "stdout",
     "output_type": "stream",
     "text": [
      " 0: Apple\n",
      " 1: Banana\n",
      " 2: Mango\n",
      " 3: Orange\n",
      " 4: Grapes\n",
      "{4} ['Apple', 'Banana', 'Mango', 'Orange', 'Grapes']\n"
     ]
    }
   ],
   "source": [
    "\n",
    "fruits = [\"Apple\", \"Banana\", \"Mango\", \"Orange\", \"Grapes\"]\n",
    "\n",
    "\n",
    "for index, fruit in enumerate(fruits):\n",
    "    print(f\" {index}: {fruit}\")\n"
   ]
  },
  {
   "cell_type": "code",
   "execution_count": 56,
   "id": "84d11582-518a-4843-8ab1-7f1ec2d7163f",
   "metadata": {},
   "outputs": [
    {
     "name": "stdin",
     "output_type": "stream",
     "text": [
      "Enter marks:  34\n"
     ]
    },
    {
     "name": "stdout",
     "output_type": "stream",
     "text": [
      " your grade is F.\n"
     ]
    }
   ],
   "source": [
    "def grade_calculator(score):\n",
    "    if score >= 90:\n",
    "        return 'A'\n",
    "    elif score >= 80:\n",
    "        return 'B'\n",
    "    elif score >= 70:\n",
    "        return 'C'\n",
    "    elif score >= 60:\n",
    "        return 'D'\n",
    "    else:\n",
    "        return 'F'\n",
    "\n",
    "marks = int(input(\"Enter marks: \"))\n",
    "grade = grade_calculator(marks)\n",
    "print(f\" your grade is {grade}.\")\n",
    "\n",
    "\n",
    "\n",
    "\n"
   ]
  },
  {
   "cell_type": "code",
   "execution_count": 58,
   "id": "ba29152a-de86-4dca-bf83-134b444fc6eb",
   "metadata": {},
   "outputs": [],
   "source": [
    "#q13 absent"
   ]
  },
  {
   "cell_type": "code",
   "execution_count": 68,
   "id": "d993f437-379d-4773-a841-67d7a4523515",
   "metadata": {},
   "outputs": [],
   "source": [
    "class BankAccount:\n",
    "    def __init__(self):\n",
    "        print('constructor')\n",
    "    def deposit(self,deposit):\n",
    "        print(f'{deposit}, has been made')\n",
    "    def withdraw(self,withdraw):\n",
    "        print(f'{withdraw}, money has been withdrawn')\n",
    "    def curr_balance(self):\n",
    "        print(f'current balance,{deposit}')\n",
    "        \n",
    "        \n",
    "        "
   ]
  },
  {
   "cell_type": "code",
   "execution_count": 69,
   "id": "cc521882-7aed-4d80-85ce-9c43a9f0a6fc",
   "metadata": {},
   "outputs": [
    {
     "name": "stdout",
     "output_type": "stream",
     "text": [
      "constructor\n"
     ]
    }
   ],
   "source": [
    "b=BankAccount()"
   ]
  },
  {
   "cell_type": "code",
   "execution_count": 70,
   "id": "35884d5b-3372-4233-9796-ed0acbb00775",
   "metadata": {},
   "outputs": [
    {
     "name": "stdout",
     "output_type": "stream",
     "text": [
      "2000, has been made\n"
     ]
    }
   ],
   "source": [
    "b.deposit(2000)"
   ]
  },
  {
   "cell_type": "code",
   "execution_count": 78,
   "id": "7a6efe6d-9a6b-4a30-8f8b-aed25342c85f",
   "metadata": {},
   "outputs": [
    {
     "name": "stdout",
     "output_type": "stream",
     "text": [
      "Prime numbers between 1 and 50:\n",
      "2\n",
      "3\n",
      "5\n",
      "7\n",
      "11\n",
      "13\n",
      "17\n",
      "19\n",
      "23\n",
      "29\n",
      "31\n",
      "37\n",
      "41\n",
      "43\n",
      "47\n"
     ]
    }
   ],
   "source": [
    "\n",
    "def is_prime(num):\n",
    "    if num < 2:\n",
    "        return False\n",
    "    for i in range(2, num):\n",
    "        if num % i == 0:\n",
    "            return False\n",
    "    return True\n",
    "print(\"Prime numbers between 1 and 50:\")\n",
    "for number in range(1, 51):\n",
    "    if is_prime(number):\n",
    "        print(number)\n"
   ]
  },
  {
   "cell_type": "code",
   "execution_count": null,
   "id": "7f7bab54-db64-482d-8191-aa47936e28d0",
   "metadata": {},
   "outputs": [],
   "source": []
  }
 ],
 "metadata": {
  "kernelspec": {
   "display_name": "Python 3 (ipykernel)",
   "language": "python",
   "name": "python3"
  },
  "language_info": {
   "codemirror_mode": {
    "name": "ipython",
    "version": 3
   },
   "file_extension": ".py",
   "mimetype": "text/x-python",
   "name": "python",
   "nbconvert_exporter": "python",
   "pygments_lexer": "ipython3",
   "version": "3.13.5"
  }
 },
 "nbformat": 4,
 "nbformat_minor": 5
}
