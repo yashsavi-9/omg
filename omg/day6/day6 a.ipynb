{
 "cells": [
  {
   "cell_type": "code",
   "execution_count": 1,
   "id": "6ffffdf7-6459-489a-baf5-032d5427c8c8",
   "metadata": {},
   "outputs": [],
   "source": [
    "class Fan:\n",
    "    def __init__(self):\n",
    "        self.__speed = 0\n",
    "        self.__is_on = False\n",
    "\n",
    "    def TurnOn(self):\n",
    "        self.__is_on = True\n",
    "        print(\"Fan is ON\")\n",
    "\n",
    "    def TurnOff(self):\n",
    "        self.__is_on = False\n",
    "        self.__speed = 0\n",
    "        print(\"Fan is OFF\")\n",
    "\n",
    "    def IncreaseSpeed(self):\n",
    "        if self.__is_on:\n",
    "            if self.__speed < 5:\n",
    "                self.__speed += 1\n",
    "                print(f\"Speed increased to {self.__speed}\")\n",
    "            else:\n",
    "                print(\"Already at maximum speed (5)\")\n",
    "        else:\n",
    "            print(\"Turn on the fan first\")\n",
    "\n",
    "    def DecreaseSpeed(self):\n",
    "        if self.__is_on:\n",
    "            if self.__speed > 0:\n",
    "                self.__speed -= 1\n",
    "                print(f\"Speed decreased to {self.__speed}\")\n",
    "            else:\n",
    "                print(\"Already at minimum speed (0)\")\n",
    "        else:\n",
    "            print(\"Turn on the fan first\")\n",
    "\n",
    "    def GetSpeed(self):\n",
    "        return self.__speed\n"
   ]
  },
  {
   "cell_type": "code",
   "execution_count": 2,
   "id": "0131d757-d044-4d03-b630-55a1d7bec881",
   "metadata": {},
   "outputs": [
    {
     "name": "stdout",
     "output_type": "stream",
     "text": [
      "Turn on the fan first\n",
      "Fan is ON\n"
     ]
    }
   ],
   "source": [
    "fan1 = Fan()\n",
    "\n",
    "fan1.IncreaseSpeed()   \n",
    "fan1.TurnOn()\n",
    "     "
   ]
  },
  {
   "cell_type": "code",
   "execution_count": 3,
   "id": "552334cf-1c8b-452b-a1b6-3a8fcdb37e7d",
   "metadata": {},
   "outputs": [],
   "source": [
    "class Employee:\n",
    "    def __init__(self, name, salary, department):\n",
    "        self.name = name\n",
    "        self.salary = salary\n",
    "        self.department = department\n",
    "\n",
    "    def get_details(self):\n",
    "        return f\"Name: {self.name}, Salary: ₹{self.salary}, Department: {self.department}\"\n",
    "\n",
    "    def increase_salary(self, percentage):\n",
    "        increment = self.salary * (percentage / 100)\n",
    "        self.salary += increment\n",
    "        print(f\"Salary increased by {percentage}%. New salary: ₹{self.salary}\")\n",
    "\n",
    "\n",
    "\n"
   ]
  },
  {
   "cell_type": "code",
   "execution_count": 4,
   "id": "5e3eef9d-786b-4008-a702-a3e6422cd006",
   "metadata": {},
   "outputs": [
    {
     "name": "stdout",
     "output_type": "stream",
     "text": [
      "Name: Yash, Salary: ₹50000, Department: IT\n"
     ]
    }
   ],
   "source": [
    "emp1 = Employee(\"Yash\", 50000, \"IT\")\n",
    "print(emp1.get_details())"
   ]
  },
  {
   "cell_type": "code",
   "execution_count": 5,
   "id": "db61b0a0-8869-419d-afbb-46078ffd769d",
   "metadata": {},
   "outputs": [],
   "source": [
    "class Book:\n",
    "    def __init__(self, title, author, price):\n",
    "        self.title = title\n",
    "        self.author = author\n",
    "        self.price = price\n",
    "        self.__available = True\n",
    "\n",
    "    def borrow_book(self):\n",
    "        if self.__available:\n",
    "            self.__available = False\n",
    "            print(\"Book borrowed.\")\n",
    "        else:\n",
    "            print(\"Not available.\")\n",
    "\n",
    "    def return_book(self):\n",
    "        if not self.__available:\n",
    "            self.__available = True\n",
    "            print(\"Book returned.\")\n",
    "        else:\n",
    "            print(\"Book was not borrowed.\")\n",
    "\n",
    "    def get_book(self):\n",
    "        status = \"Available\" if self.__available else \"Not Available\"\n",
    "        print(f\"{self.title} by {self.author} - ₹{self.price} - {status}\")\n"
   ]
  },
  {
   "cell_type": "code",
   "execution_count": null,
   "id": "02abe822-7c2d-4da6-9b48-829e6cea3086",
   "metadata": {},
   "outputs": [],
   "source": []
  }
 ],
 "metadata": {
  "kernelspec": {
   "display_name": "Python 3 (ipykernel)",
   "language": "python",
   "name": "python3"
  },
  "language_info": {
   "codemirror_mode": {
    "name": "ipython",
    "version": 3
   },
   "file_extension": ".py",
   "mimetype": "text/x-python",
   "name": "python",
   "nbconvert_exporter": "python",
   "pygments_lexer": "ipython3",
   "version": "3.13.5"
  }
 },
 "nbformat": 4,
 "nbformat_minor": 5
}
