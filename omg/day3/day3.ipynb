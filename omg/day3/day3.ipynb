{
 "cells": [
  {
   "cell_type": "code",
   "execution_count": 1,
   "id": "5237c044-df7d-422c-b17b-4967257cbd91",
   "metadata": {},
   "outputs": [
    {
     "ename": "NameError",
     "evalue": "name 'typeError' is not defined",
     "output_type": "error",
     "traceback": [
      "\u001b[1;31m---------------------------------------------------------------------------\u001b[0m",
      "\u001b[1;31mZeroDivisionError\u001b[0m                         Traceback (most recent call last)",
      "Cell \u001b[1;32mIn[1], line 4\u001b[0m\n\u001b[0;32m      3\u001b[0m \u001b[38;5;28;01mtry\u001b[39;00m:\n\u001b[1;32m----> 4\u001b[0m     \u001b[38;5;28mprint\u001b[39m(\u001b[38;5;241m1\u001b[39m\u001b[38;5;241m/\u001b[39m\u001b[38;5;241m0\u001b[39m)\n\u001b[0;32m      5\u001b[0m     \u001b[38;5;28;01mif\u001b[39;00m age\u001b[38;5;241m>\u001b[39m\u001b[38;5;241m=\u001b[39m\u001b[38;5;241m18\u001b[39m:\n",
      "\u001b[1;31mZeroDivisionError\u001b[0m: division by zero",
      "\nDuring handling of the above exception, another exception occurred:\n",
      "\u001b[1;31mNameError\u001b[0m                                 Traceback (most recent call last)",
      "Cell \u001b[1;32mIn[1], line 9\u001b[0m\n\u001b[0;32m      7\u001b[0m     \u001b[38;5;28;01melse\u001b[39;00m:\n\u001b[0;32m      8\u001b[0m         \u001b[38;5;28mprint\u001b[39m(\u001b[38;5;124m'\u001b[39m\u001b[38;5;124mcant vote\u001b[39m\u001b[38;5;124m'\u001b[39m)\n\u001b[1;32m----> 9\u001b[0m \u001b[38;5;28;01mexcept\u001b[39;00m typeError:\n\u001b[0;32m     10\u001b[0m     \u001b[38;5;28mprint\u001b[39m(\u001b[38;5;124m'\u001b[39m\u001b[38;5;124msomwthing went wrong\u001b[39m\u001b[38;5;124m'\u001b[39m)\n\u001b[0;32m     11\u001b[0m     \u001b[38;5;28mprint\u001b[39m(\u001b[38;5;124m'\u001b[39m\u001b[38;5;124minvalid datatype comparison\u001b[39m\u001b[38;5;124m'\u001b[39m)\n",
      "\u001b[1;31mNameError\u001b[0m: name 'typeError' is not defined"
     ]
    }
   ],
   "source": [
    "#exception handleing\n",
    "age='23'\n",
    "try:\n",
    "    print(1/0)\n",
    "    if age>=18:\n",
    "        print('can vote')\n",
    "    else:\n",
    "        print('cant vote')\n",
    "except typeError:\n",
    "    print('somwthing went wrong')\n",
    "    print('invalid datatype comparison')\n",
    "except:\n",
    "    print('invalid code')\n",
    "    "
   ]
  },
  {
   "cell_type": "code",
   "execution_count": 4,
   "id": "39743bcb-5d2b-48cd-9df4-cae3979e07ac",
   "metadata": {},
   "outputs": [
    {
     "name": "stdout",
     "output_type": "stream",
     "text": [
      "Invalid Code!!\n"
     ]
    }
   ],
   "source": [
    "age = '23'\n",
    "\n",
    "try:\n",
    "  print(1/0)\n",
    "  \n",
    "  if age >= 18:\n",
    "    print('can vote')\n",
    "  else:\n",
    "    print('can\\'t vote')\n",
    "except TypeError:\n",
    "  print('Something went wrong!!')\n",
    "  print('Invalid datatype comparison!!')\n",
    "\n",
    "except:\n",
    "  print('Invalid Code!!')"
   ]
  },
  {
   "cell_type": "code",
   "execution_count": 5,
   "id": "e9ac8f46-587a-48f2-a2ca-fb7920726c3c",
   "metadata": {},
   "outputs": [],
   "source": [
    "def student_records(**kwargs):\n",
    "  import pandas as pd\n",
    "  try:\n",
    "    data = pd.DataFrame(kwargs)\n",
    "    return data\n",
    "  except:\n",
    "    data = pd.DataFrame(kwargs,index = [1])\n",
    "    return data"
   ]
  },
  {
   "cell_type": "code",
   "execution_count": 6,
   "id": "5d49e700-7f39-4678-bdc8-9c89c1b51231",
   "metadata": {},
   "outputs": [
    {
     "data": {
      "text/html": [
       "<div>\n",
       "<style scoped>\n",
       "    .dataframe tbody tr th:only-of-type {\n",
       "        vertical-align: middle;\n",
       "    }\n",
       "\n",
       "    .dataframe tbody tr th {\n",
       "        vertical-align: top;\n",
       "    }\n",
       "\n",
       "    .dataframe thead th {\n",
       "        text-align: right;\n",
       "    }\n",
       "</style>\n",
       "<table border=\"1\" class=\"dataframe\">\n",
       "  <thead>\n",
       "    <tr style=\"text-align: right;\">\n",
       "      <th></th>\n",
       "      <th>Name</th>\n",
       "      <th>Age</th>\n",
       "      <th>Address</th>\n",
       "    </tr>\n",
       "  </thead>\n",
       "  <tbody>\n",
       "    <tr>\n",
       "      <th>1</th>\n",
       "      <td>Ajay</td>\n",
       "      <td>12</td>\n",
       "      <td>Noida</td>\n",
       "    </tr>\n",
       "  </tbody>\n",
       "</table>\n",
       "</div>"
      ],
      "text/plain": [
       "   Name  Age Address\n",
       "1  Ajay   12   Noida"
      ]
     },
     "execution_count": 6,
     "metadata": {},
     "output_type": "execute_result"
    }
   ],
   "source": [
    "student_records(Name = 'Ajay',Age = 12,Address = 'Noida')"
   ]
  },
  {
   "cell_type": "code",
   "execution_count": 7,
   "id": "fd8d4027-d4a5-47f1-8441-fd4510b86d62",
   "metadata": {},
   "outputs": [
    {
     "data": {
      "text/html": [
       "<div>\n",
       "<style scoped>\n",
       "    .dataframe tbody tr th:only-of-type {\n",
       "        vertical-align: middle;\n",
       "    }\n",
       "\n",
       "    .dataframe tbody tr th {\n",
       "        vertical-align: top;\n",
       "    }\n",
       "\n",
       "    .dataframe thead th {\n",
       "        text-align: right;\n",
       "    }\n",
       "</style>\n",
       "<table border=\"1\" class=\"dataframe\">\n",
       "  <thead>\n",
       "    <tr style=\"text-align: right;\">\n",
       "      <th></th>\n",
       "      <th>Name</th>\n",
       "      <th>Age</th>\n",
       "      <th>Address</th>\n",
       "      <th>Sec</th>\n",
       "    </tr>\n",
       "  </thead>\n",
       "  <tbody>\n",
       "    <tr>\n",
       "      <th>0</th>\n",
       "      <td>Aman</td>\n",
       "      <td>23</td>\n",
       "      <td>Noida</td>\n",
       "      <td>A</td>\n",
       "    </tr>\n",
       "    <tr>\n",
       "      <th>1</th>\n",
       "      <td>Karan</td>\n",
       "      <td>34</td>\n",
       "      <td>Delhi</td>\n",
       "      <td>B</td>\n",
       "    </tr>\n",
       "    <tr>\n",
       "      <th>2</th>\n",
       "      <td>Mohan</td>\n",
       "      <td>45</td>\n",
       "      <td>Noida</td>\n",
       "      <td>C</td>\n",
       "    </tr>\n",
       "  </tbody>\n",
       "</table>\n",
       "</div>"
      ],
      "text/plain": [
       "    Name  Age Address Sec\n",
       "0   Aman   23   Noida   A\n",
       "1  Karan   34   Delhi   B\n",
       "2  Mohan   45   Noida   C"
      ]
     },
     "execution_count": 7,
     "metadata": {},
     "output_type": "execute_result"
    }
   ],
   "source": [
    "student_records(Name = ['Aman','Karan','Mohan'],\n",
    "                Age = [23,34,45],\n",
    "                Address = ['Noida','Delhi','Noida'],\n",
    "                Sec = list('ABC'))"
   ]
  },
  {
   "cell_type": "code",
   "execution_count": 9,
   "id": "27a9aa34-cf4d-4f06-8450-6a9d426e0a87",
   "metadata": {},
   "outputs": [],
   "source": [
    "def show_time():\n",
    "  try:\n",
    "    while True:\n",
    "      import time\n",
    "      print(time.asctime())   \n",
    "      time.sleep(1)\n",
    "      display(clear = True)\n",
    "  except:\n",
    "    print('Timer has been Stopped!!')"
   ]
  },
  {
   "cell_type": "code",
   "execution_count": null,
   "id": "70101d84-6423-44eb-a6d3-669636aa35a3",
   "metadata": {},
   "outputs": [
    {
     "name": "stdout",
     "output_type": "stream",
     "text": [
      "Sun Jul  6 21:54:51 2025\n"
     ]
    }
   ],
   "source": [
    "show_time()\n"
   ]
  },
  {
   "cell_type": "code",
   "execution_count": null,
   "id": "534e9ced-aa57-45e1-9ae3-3726e31646d1",
   "metadata": {},
   "outputs": [],
   "source": [
    "def check_palindrome(word:str):\n",
    "  if type(word) == str:\n",
    "    word = word.upper()\n",
    "    if word == word[::-1]:\n",
    "      return 'Palindrome'\n",
    "    else:\n",
    "      return 'Not a Plaindrome'\n",
    "  else:\n",
    "    return 'Invalid Data Type'"
   ]
  },
  {
   "cell_type": "code",
   "execution_count": null,
   "id": "349e0bdf-60d1-417f-893e-df4da688573e",
   "metadata": {},
   "outputs": [],
   "source": [
    "def give_fibo(n):\n",
    "  fibo = [0,1]\n",
    "  for i in range(n-2):\n",
    "     last_num = fibo[-1]\n",
    "     second_last_num = fibo[-2]\n",
    "     next_num = last_num + second_last_num\n",
    "     fibo.append(next_num)\n",
    "  return fibo"
   ]
  },
  {
   "cell_type": "code",
   "execution_count": null,
   "id": "ab5b0ec9-cff3-48a1-aa10-b76783002b9d",
   "metadata": {},
   "outputs": [],
   "source": [
    "def check_prime(number):\n",
    "    for i in range(2,number):\n",
    "        if number % i == 0:\n",
    "            return 'Not a Prime Number'\n",
    "            break\n",
    "            print('Happy Holi')\n",
    "    else:\n",
    "        return 'Prime Number'"
   ]
  },
  {
   "cell_type": "code",
   "execution_count": null,
   "id": "bbd0528d-b138-40b3-9001-5df37aa48ebf",
   "metadata": {},
   "outputs": [],
   "source": [
    "def print_star(n = 5, typ = 'left',shape = '*'):\n",
    "  if typ  == 'left':\n",
    "    space  = ''\n",
    "\n",
    "  elif typ == 'right':\n",
    "    space = '  '\n",
    "\n",
    "  elif typ == 'mid':\n",
    "    space = ' '\n",
    "\n",
    "  for i in range(1,n+1):\n",
    "    print(space*(n-i) + i*f'{shape} ')"
   ]
  },
  {
   "cell_type": "code",
   "execution_count": null,
   "id": "b42d9eef-cbc2-4f1e-9743-f0227ee156d0",
   "metadata": {},
   "outputs": [],
   "source": [
    "def sum_of_n_natural_numbers(n):\n",
    "    result = 0\n",
    "    for i in range(1,n+1):\n",
    "        result += i\n",
    "    return result\n",
    "\n",
    "def factorial(n):\n",
    "    result = 1\n",
    "    for i in range(1,n+1):\n",
    "        result *= i\n",
    "    return result\n"
   ]
  },
  {
   "cell_type": "code",
   "execution_count": null,
   "id": "147c2930-f30b-420d-b6f6-007b49a85814",
   "metadata": {},
   "outputs": [],
   "source": [
    "def total_sales(*args):\n",
    "  #unpacking\n",
    "  result = 0\n",
    "  for i in args:\n",
    "    result += i\n",
    "  return result"
   ]
  },
  {
   "cell_type": "code",
   "execution_count": null,
   "id": "8af15c4d-ddf4-458b-8c56-bd8c1ac695eb",
   "metadata": {},
   "outputs": [],
   "source": [
    "def minn(*data):\n",
    "  min_ele = data[0]\n",
    "  for i in data[1:]:\n",
    "    if i< min_ele:\n",
    "      min_ele = i\n",
    "  return min_ele"
   ]
  },
  {
   "cell_type": "code",
   "execution_count": null,
   "id": "fc6fa2e5-c269-414d-ab32-ec60ab34d45e",
   "metadata": {},
   "outputs": [],
   "source": [
    "def sound_box(paisa,platform = 'Paytm'):\n",
    "    from gtts import gTTS\n",
    "    text  = f'''{platform} par {paisa} rs Prapt hue.'''\n",
    "    audio = gTTS(text)\n",
    "    audio.save('paytm.mp3')\n",
    "\n",
    "    import pygame as p\n",
    "    p.init()\n",
    "\n",
    "    music = p.mixer.Sound('paytm.mp3')\n",
    "    music.play()"
   ]
  },
  {
   "cell_type": "code",
   "execution_count": null,
   "id": "a7f4e161-8eb6-4416-96d2-156b41bda096",
   "metadata": {},
   "outputs": [],
   "source": [
    "print('''This is Ankit Module in Python\n",
    "Info: https://www.google.com/''')\n",
    "\n",
    "\n",
    "\n",
    "def check_palindrome(word:str):\n",
    "  if type(word) == str:\n",
    "    word = word.upper()\n",
    "    if word == word[::-1]:\n",
    "      return 'Palindrome'\n",
    "    else:\n",
    "      return 'Not a Plaindrome'\n",
    "  else:\n",
    "    return 'Invalid Data Type'\n",
    "\n",
    "\n",
    "\n",
    "def give_fibo(n):\n",
    "  fibo = [0,1]\n",
    "  for i in range(n-2):\n",
    "     last_num = fibo[-1]\n",
    "     second_last_num = fibo[-2]\n",
    "     next_num = last_num + second_last_num\n",
    "     fibo.append(next_num)\n",
    "  return fibo\n",
    "\n",
    "\n",
    "def check_prime(number):\n",
    "    for i in range(2,number):\n",
    "        if number % i == 0:\n",
    "            return 'Not a Prime Number'\n",
    "            break\n",
    "            print('Happy Holi')\n",
    "    else:\n",
    "        return 'Prime Number'\n",
    "\n",
    "\n",
    "def print_star(n = 5, typ = 'left',shape = '*'):\n",
    "  if typ  == 'left':\n",
    "    space  = ''\n",
    "\n",
    "  elif typ == 'right':\n",
    "    space = '  '\n",
    "\n",
    "  elif typ == 'mid':\n",
    "    space = ' '\n",
    "\n",
    "  for i in range(1,n+1):\n",
    "    print(space*(n-i) + i*f'{shape} ')\n",
    "\n",
    "\n",
    "\n",
    "def sum_of_n_natural_numbers(n):\n",
    "    result = 0\n",
    "    for i in range(1,n+1):\n",
    "        result += i\n",
    "    return result\n",
    "\n",
    "def factorial(n):\n",
    "    result = 1\n",
    "    for i in range(1,n+1):\n",
    "        result *= i\n",
    "    return result\n",
    "\n",
    "\n",
    "def total_sales(*args):\n",
    "  #unpacking\n",
    "  result = 0\n",
    "  for i in args:\n",
    "    result += i\n",
    "  return result\n",
    "\n",
    "def minn(*data):\n",
    "  min_ele = data[0]\n",
    "  for i in data[1:]:\n",
    "    if i< min_ele:\n",
    "      min_ele = i\n",
    "  return min_ele\n",
    "\n",
    "def student_records(**kwargs):\n",
    "  import pandas as pd\n",
    "  try:\n",
    "    data = pd.DataFrame(kwargs)\n",
    "    return data\n",
    "  except:\n",
    "    data = pd.DataFrame(kwargs,index = [1])\n",
    "    return data\n",
    "\n",
    "def show_time():\n",
    "  try:\n",
    "    while True:\n",
    "      import time\n",
    "      print(time.asctime())\n",
    "      time.sleep(1)\n",
    "      display(clear = True)\n",
    "  except:\n",
    "    print('Timer has been Stopped!!')\n",
    "\n",
    "def sound_box(paisa,platform = 'Paytm'):\n",
    "    from gtts import gTTS\n",
    "    text  = f'''{platform} par {paisa} rs Prapt hue.'''\n",
    "    audio = gTTS(text)\n",
    "    audio.save('paytm.mp3')\n",
    "\n",
    "    import pygame as p\n",
    "    p.init()\n",
    "\n",
    "    music = p.mixer.Sound('paytm.mp3')\n",
    "    music.play()"
   ]
  },
  {
   "cell_type": "code",
   "execution_count": null,
   "id": "0b7ed64c-bd04-4fd0-8b16-738054f7842b",
   "metadata": {},
   "outputs": [],
   "source": [
    "import ankit as a\n",
    "a.give_fibo(12)"
   ]
  },
  {
   "cell_type": "code",
   "execution_count": null,
   "id": "e8a13b8e-31eb-41b9-befa-6b7f5ff74422",
   "metadata": {},
   "outputs": [],
   "source": [
    "from ankit import minn\n",
    "print('Done')"
   ]
  },
  {
   "cell_type": "code",
   "execution_count": null,
   "id": "1504904d-228e-406f-b473-faf5d1a4c5de",
   "metadata": {},
   "outputs": [],
   "source": [
    "import turtle\n",
    "print('done')"
   ]
  },
  {
   "cell_type": "code",
   "execution_count": null,
   "id": "49076866-e7ab-42f3-8ae5-d7f43a07ec6d",
   "metadata": {},
   "outputs": [],
   "source": [
    "import turtle\n",
    "for i in range(120):\n",
    "    turtle.speed(0)\n",
    "    turtle.bgcolor('black')\n",
    "    col = ['red','yellow','green','blue','orange']\n",
    "    import random\n",
    "    picked_color = random.choice(col)\n",
    "    turtle.color(picked_color)\n",
    "    turtle.circle(100)\n",
    "    turtle.left(3)"
   ]
  },
  {
   "cell_type": "code",
   "execution_count": null,
   "id": "b991fa06-47eb-46ee-9fb1-b4367d019dab",
   "metadata": {},
   "outputs": [],
   "source": [
    "import turtle\n",
    "for i in range(4):\n",
    "    turtle.circle(100)\n",
    "    turtle.left(90)"
   ]
  },
  {
   "cell_type": "code",
   "execution_count": null,
   "id": "cf054e6e-d154-49cc-8bae-b2153513384a",
   "metadata": {},
   "outputs": [],
   "source": [
    "import turtle\n",
    "for i in range(6):\n",
    "    turtle.bgcolor('black')\n",
    "    turtle.color('cyan')\n",
    "    turtle.forward(150)\n",
    "    turtle.left(60)\n",
    "    "
   ]
  }
 ],
 "metadata": {
  "kernelspec": {
   "display_name": "Python 3 (ipykernel)",
   "language": "python",
   "name": "python3"
  },
  "language_info": {
   "codemirror_mode": {
    "name": "ipython",
    "version": 3
   },
   "file_extension": ".py",
   "mimetype": "text/x-python",
   "name": "python",
   "nbconvert_exporter": "python",
   "pygments_lexer": "ipython3",
   "version": "3.13.5"
  }
 },
 "nbformat": 4,
 "nbformat_minor": 5
}
