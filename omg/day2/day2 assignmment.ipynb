{
 "cells": [
  {
   "cell_type": "code",
   "execution_count": 11,
   "id": "8bd5d9b5-5570-4cae-93e3-4bbc43e52301",
   "metadata": {},
   "outputs": [],
   "source": [
    "#even/odd\n",
    "def check(number):\n",
    "    if number % 2 == 0:\n",
    "        print(f\"{number} is Even\")\n",
    "    else:\n",
    "        print(f\"{number} is Odd\")"
   ]
  },
  {
   "cell_type": "code",
   "execution_count": 2,
   "id": "60715d00-a33d-41a0-ad9e-25a8d0f2853c",
   "metadata": {},
   "outputs": [
    {
     "name": "stdout",
     "output_type": "stream",
     "text": [
      "2 is Even\n"
     ]
    }
   ],
   "source": [
    "check(2)"
   ]
  },
  {
   "cell_type": "code",
   "execution_count": 13,
   "id": "674b90ce-a55a-4bbb-a53b-01770f7927eb",
   "metadata": {},
   "outputs": [],
   "source": [
    "#pyramid\n",
    "def star_pyramid(rows):\n",
    "    for i in range(1, rows + 1):\n",
    "        spaces = ' ' * (rows - i)\n",
    "        stars = '*' * (2 * i - 1)\n",
    "        print(spaces + stars)\n",
    "\n",
    "\n"
   ]
  },
  {
   "cell_type": "code",
   "execution_count": 9,
   "id": "35d8c81a-8445-41d3-bb98-994a5cb93ae5",
   "metadata": {},
   "outputs": [
    {
     "name": "stdout",
     "output_type": "stream",
     "text": [
      "    *\n",
      "   ***\n",
      "  *****\n",
      " *******\n",
      "*********\n"
     ]
    }
   ],
   "source": [
    "star_pyramid(5)"
   ]
  },
  {
   "cell_type": "code",
   "execution_count": 14,
   "id": "7f95d402-3091-4f95-b29d-a523c7f06a42",
   "metadata": {},
   "outputs": [
    {
     "name": "stdout",
     "output_type": "stream",
     "text": [
      "#TechNova\n",
      "#Healthify\n",
      "#EcoDrive\n",
      "#FoodMate\n"
     ]
    }
   ],
   "source": [
    "startups = [\"TechNova\", \"Healthify\", \"EcoDrive\", \"FoodMate\"]\n",
    "\n",
    "for name in startups:\n",
    "    print(\"#\" + name)\n"
   ]
  },
  {
   "cell_type": "code",
   "execution_count": 15,
   "id": "53dcde41-f8e2-4bdc-9eb7-ed831dcc0285",
   "metadata": {},
   "outputs": [
    {
     "name": "stdin",
     "output_type": "stream",
     "text": [
      "Enter a number:  4\n"
     ]
    },
    {
     "name": "stdout",
     "output_type": "stream",
     "text": [
      "Factorial of 4 is 24\n"
     ]
    }
   ],
   "source": [
    "#fact\n",
    "\n",
    "num = int(input(\"Enter a number: \"))\n",
    "fact = 1\n",
    "\n",
    "for i in range(1, num + 1):\n",
    "    fact *= i\n",
    "\n",
    "print(\"Factorial of\", num, \"is\", fact)\n"
   ]
  },
  {
   "cell_type": "code",
   "execution_count": null,
   "id": "a3bc81df-4df9-4467-9d03-fe6d75fd2357",
   "metadata": {},
   "outputs": [],
   "source": []
  }
 ],
 "metadata": {
  "kernelspec": {
   "display_name": "Python 3 (ipykernel)",
   "language": "python",
   "name": "python3"
  },
  "language_info": {
   "codemirror_mode": {
    "name": "ipython",
    "version": 3
   },
   "file_extension": ".py",
   "mimetype": "text/x-python",
   "name": "python",
   "nbconvert_exporter": "python",
   "pygments_lexer": "ipython3",
   "version": "3.13.5"
  }
 },
 "nbformat": 4,
 "nbformat_minor": 5
}
