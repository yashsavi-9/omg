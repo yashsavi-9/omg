{
 "cells": [
  {
   "cell_type": "code",
   "execution_count": 1,
   "id": "5d8cf786-20af-42b2-aef8-84f4c2c3b6fb",
   "metadata": {},
   "outputs": [],
   "source": [
    "#functional programming"
   ]
  },
  {
   "cell_type": "code",
   "execution_count": 6,
   "id": "2e95d5ac-0f80-436f-8c81-f1cce18e29ae",
   "metadata": {},
   "outputs": [],
   "source": [
    "def check_palindrome(word):\n",
    "    return word"
   ]
  },
  {
   "cell_type": "code",
   "execution_count": 8,
   "id": "bc795089-b98c-48a4-8a2d-1960e2b7a43f",
   "metadata": {},
   "outputs": [
    {
     "data": {
      "text/plain": [
       "'ajay'"
      ]
     },
     "execution_count": 8,
     "metadata": {},
     "output_type": "execute_result"
    }
   ],
   "source": [
    "check_palindrome('ajay')"
   ]
  },
  {
   "cell_type": "code",
   "execution_count": 9,
   "id": "42eec749-e10b-438c-824d-9850b1eeba12",
   "metadata": {},
   "outputs": [
    {
     "data": {
      "text/plain": [
       "'ykcul'"
      ]
     },
     "execution_count": 9,
     "metadata": {},
     "output_type": "execute_result"
    }
   ],
   "source": [
    "a='lucky'\n",
    "a[::-1]\n"
   ]
  },
  {
   "cell_type": "code",
   "execution_count": 19,
   "id": "59a72c97-c80b-4478-ad97-1de0feb9171a",
   "metadata": {},
   "outputs": [
    {
     "name": "stdout",
     "output_type": "stream",
     "text": [
      "mohan is not a palindromw\n"
     ]
    }
   ],
   "source": [
    "\n"
   ]
  },
  {
   "cell_type": "code",
   "execution_count": 21,
   "id": "6a102509-174b-4ce0-8021-e56440e941b7",
   "metadata": {},
   "outputs": [],
   "source": [
    "def check_palindrome(word):\n",
    "    if word==word[::-1]:\n",
    "        print(f'{word} is a palindrome')\n",
    "    else:\n",
    "        print(f'{word} not a palindrome')"
   ]
  },
  {
   "cell_type": "code",
   "execution_count": 22,
   "id": "8a1b323f-c247-46f3-80ff-eba84b01ec64",
   "metadata": {},
   "outputs": [
    {
     "name": "stdout",
     "output_type": "stream",
     "text": [
      "yash not a palindrome\n"
     ]
    }
   ],
   "source": [
    "check_palindrome('yash')"
   ]
  },
  {
   "cell_type": "code",
   "execution_count": 23,
   "id": "5a66bc16-6c73-4728-90b9-c954b61bc989",
   "metadata": {},
   "outputs": [],
   "source": [
    "def check_palindrome(word):\n",
    "    word=word.upper()\n",
    "    if word==word[::-1]:\n",
    "        print(f'{word} is a palindrome')\n",
    "    else:\n",
    "        print(f'{word} not a palindrome')"
   ]
  },
  {
   "cell_type": "code",
   "execution_count": 24,
   "id": "7cae895e-4805-4d29-be79-3487a17a57b6",
   "metadata": {},
   "outputs": [
    {
     "name": "stdout",
     "output_type": "stream",
     "text": [
      "NITIN is a palindrome\n"
     ]
    }
   ],
   "source": [
    "check_palindrome('Nitin')"
   ]
  },
  {
   "cell_type": "code",
   "execution_count": 25,
   "id": "a043efce-f0a7-4d9a-b4fa-29c62afc5ad6",
   "metadata": {},
   "outputs": [],
   "source": [
    "def check_palindrome(word:str):\n",
    "  if type(word)==str: \n",
    "    word=word.upper()\n",
    "    if word==word[::-1]:\n",
    "        print(f'{word} is a palindrome')\n",
    "    else:\n",
    "        print(f'{word} not a palindrome')\n",
    "  else:\n",
    "      return 'invalid data type'"
   ]
  },
  {
   "cell_type": "code",
   "execution_count": 26,
   "id": "9c3602eb-2e44-4604-8a87-263ee354c5b6",
   "metadata": {},
   "outputs": [
    {
     "data": {
      "text/plain": [
       "'invalid data type'"
      ]
     },
     "execution_count": 26,
     "metadata": {},
     "output_type": "execute_result"
    }
   ],
   "source": [
    "check_palindrome(121)"
   ]
  },
  {
   "cell_type": "code",
   "execution_count": 27,
   "id": "ff56a6fe-8b0c-45e6-a4cf-a7651827be02",
   "metadata": {},
   "outputs": [
    {
     "name": "stdout",
     "output_type": "stream",
     "text": [
      "HARRY not a palindrome\n"
     ]
    }
   ],
   "source": [
    "check_palindrome('harry')"
   ]
  },
  {
   "cell_type": "code",
   "execution_count": 32,
   "id": "37c05992-626e-4788-bd79-22d1af21e169",
   "metadata": {},
   "outputs": [],
   "source": [
    "def give_fibo(n):\n",
    "    fibo=[0,1]\n",
    "    for i in range(n-2):\n",
    "        last_num=fibo[-1]\n",
    "        sec_last_num=fibo[-2]\n",
    "        next_num=last_num+sec_last_num\n",
    "        fibo.append(next_num)\n",
    "    return fibo"
   ]
  },
  {
   "cell_type": "code",
   "execution_count": 35,
   "id": "62139497-7029-42d8-907e-c13e9f2d50a1",
   "metadata": {},
   "outputs": [
    {
     "data": {
      "text/plain": [
       "[0, 1, 1, 2, 3, 5, 8]"
      ]
     },
     "execution_count": 35,
     "metadata": {},
     "output_type": "execute_result"
    }
   ],
   "source": [
    "give_fibo(7)\n"
   ]
  },
  {
   "cell_type": "code",
   "execution_count": 36,
   "id": "b73ea5a8-d472-4337-aadc-ab68224e020b",
   "metadata": {},
   "outputs": [],
   "source": [
    "def check_prime(n):\n",
    "    for i in range(2,n):\n",
    "        if n%i==0:\n",
    "            return 'not a prime'\n",
    "            break\n",
    "    else:\n",
    "        return 'prime number'\n",
    "        "
   ]
  },
  {
   "cell_type": "code",
   "execution_count": 38,
   "id": "2f0bc8d1-4f39-4abb-8013-56a5550cf901",
   "metadata": {},
   "outputs": [
    {
     "data": {
      "text/plain": [
       "'prime number'"
      ]
     },
     "execution_count": 38,
     "metadata": {},
     "output_type": "execute_result"
    }
   ],
   "source": [
    "check_prime(11)"
   ]
  },
  {
   "cell_type": "code",
   "execution_count": 42,
   "id": "db00a6dc-4b9c-42e4-b9c7-462ae078f7ad",
   "metadata": {},
   "outputs": [
    {
     "name": "stdout",
     "output_type": "stream",
     "text": [
      " *\n",
      " * *\n",
      " * * *\n",
      " * * * *\n",
      " * * * * *\n"
     ]
    }
   ],
   "source": [
    "n=5\n",
    "for i in range(1,n+1):\n",
    "    print(i*' *')\n"
   ]
  },
  {
   "cell_type": "code",
   "execution_count": 101,
   "id": "f7096a06-fbba-4aa7-96a0-e1fe8e1c0a03",
   "metadata": {},
   "outputs": [
    {
     "name": "stdout",
     "output_type": "stream",
     "text": [
      "    *\n",
      "   **\n",
      "  ***\n",
      " ****\n",
      "*****\n"
     ]
    }
   ],
   "source": [
    "n=5\n",
    "for i in range(1,n+1):\n",
    "    print(' '*(n-i) + i*'*')\n",
    "    "
   ]
  },
  {
   "cell_type": "code",
   "execution_count": 105,
   "id": "27434505-520e-4431-8d34-bcff2d457dbd",
   "metadata": {},
   "outputs": [],
   "source": [
    "def p_star(n=5,typ='right',shape='*'):\n",
    " if typ=='left':\n",
    "     space=''\n",
    " elif typ=='right':\n",
    "     space='  '\n",
    " elif typ=='mid':\n",
    "     space=' '\n",
    " for i in range(1,n+1):\n",
    "    print(space*(n-i)+i*f'{shape} ')"
   ]
  },
  {
   "cell_type": "code",
   "execution_count": 108,
   "id": "578be73a-8be0-4847-9a7d-a458f6bda6b5",
   "metadata": {},
   "outputs": [
    {
     "name": "stdout",
     "output_type": "stream",
     "text": [
      "   yash \n",
      "  yash yash \n",
      " yash yash yash \n",
      "yash yash yash yash \n"
     ]
    }
   ],
   "source": [
    "p_star(4,'mid','yash')\n",
    "\n"
   ]
  },
  {
   "cell_type": "code",
   "execution_count": 1,
   "id": "c56c6808-227b-4d8a-879e-a11f67ae972b",
   "metadata": {},
   "outputs": [],
   "source": [
    "def sum_of_n_natural_numbers(n):\n",
    "    result=0\n",
    "    for i in range(1,n+1):\n",
    "      result +=i\n",
    "    return result\n",
    " "
   ]
  },
  {
   "cell_type": "code",
   "execution_count": 2,
   "id": "b68cf2dc-da97-41e4-9c81-471b279dd187",
   "metadata": {},
   "outputs": [
    {
     "data": {
      "text/plain": [
       "15"
      ]
     },
     "execution_count": 2,
     "metadata": {},
     "output_type": "execute_result"
    }
   ],
   "source": [
    "sum_of_n_natural_numbers(5)"
   ]
  },
  {
   "cell_type": "code",
   "execution_count": 3,
   "id": "93486ee2-e6f6-4ec4-8ade-be7490a364e5",
   "metadata": {},
   "outputs": [],
   "source": [
    "def factorial(n):\n",
    "    result=1\n",
    "    for i in range(1,n+1):\n",
    "        result *=i\n",
    "    return result"
   ]
  },
  {
   "cell_type": "code",
   "execution_count": 4,
   "id": "87ada558-1bd3-4538-b0cb-053802e8b076",
   "metadata": {},
   "outputs": [
    {
     "data": {
      "text/plain": [
       "3628800"
      ]
     },
     "execution_count": 4,
     "metadata": {},
     "output_type": "execute_result"
    }
   ],
   "source": [
    "factorial(10)"
   ]
  },
  {
   "cell_type": "code",
   "execution_count": 5,
   "id": "bc6c1d84-1183-4d9f-9fe9-4e5c4306ed07",
   "metadata": {},
   "outputs": [],
   "source": [
    "def total_sales(*args):\n",
    "    result=0\n",
    "    for i in args:\n",
    "        result += i\n",
    "    return result\n",
    "    \n",
    "    "
   ]
  },
  {
   "cell_type": "code",
   "execution_count": 6,
   "id": "b4ebd456-f420-46d3-b97a-6d20a6447ea5",
   "metadata": {},
   "outputs": [
    {
     "data": {
      "text/plain": [
       "28"
      ]
     },
     "execution_count": 6,
     "metadata": {},
     "output_type": "execute_result"
    }
   ],
   "source": [
    "total_sales(1,2,3,4,5,6,7)"
   ]
  },
  {
   "cell_type": "code",
   "execution_count": 7,
   "id": "44b40c61-564b-41ea-b6c5-846c62074a56",
   "metadata": {},
   "outputs": [
    {
     "name": "stdout",
     "output_type": "stream",
     "text": [
      "3\n"
     ]
    }
   ],
   "source": [
    "sales=[12422,34234234,23423424,2343,4343,43,43423,424334,234,324,3]\n",
    "min_element=sales[0]\n",
    "for i in sales[1:]:\n",
    "    if i<min_element:\n",
    "        min_element=i\n",
    "print(min_element)"
   ]
  },
  {
   "cell_type": "code",
   "execution_count": 25,
   "id": "2fa868bf-11ef-4727-ad7c-7105863cd77f",
   "metadata": {},
   "outputs": [],
   "source": [
    "def min_sales(sales=[12422,34234234,23423424,2343,4343,43,43423,424334,234,324,3]):\n",
    " min_element=sales[0]\n",
    " for i in sales[1:]:\n",
    "    if i<min_element:\n",
    "        min_element=i\n",
    " return min_element\n",
    "    "
   ]
  },
  {
   "cell_type": "code",
   "execution_count": 17,
   "id": "fa8ed91c-323f-4d93-ba0f-a2305b1fc2f5",
   "metadata": {},
   "outputs": [],
   "source": [
    "total_sales([12422,34234234,23423424,2343,4343,43,43423,424334,234,324,3])"
   ]
  },
  {
   "cell_type": "code",
   "execution_count": 19,
   "id": "34cab9a7-4c8e-453b-b8d2-b3d8572e858d",
   "metadata": {},
   "outputs": [
    {
     "name": "stdout",
     "output_type": "stream",
     "text": [
      "34234234\n"
     ]
    }
   ],
   "source": [
    "sales=[12422,34234234,23423424,2343,4343,43,43423,424334,234,324,3]\n",
    "max_element=sales[0]\n",
    "for i in sales[1:]:\n",
    "    if i>max_element:\n",
    "        max_element=i\n",
    "print(max_element)"
   ]
  },
  {
   "cell_type": "code",
   "execution_count": 26,
   "id": "4e2cf6ae-2234-49e4-9fb8-7a669a51c356",
   "metadata": {},
   "outputs": [
    {
     "data": {
      "text/plain": [
       "3"
      ]
     },
     "execution_count": 26,
     "metadata": {},
     "output_type": "execute_result"
    }
   ],
   "source": [
    "sales=[12422,34234234,23423424,2343,4343,43,43423,424334,234,324,3]\n",
    "min_sales(sales)"
   ]
  },
  {
   "cell_type": "code",
   "execution_count": 29,
   "id": "fb8c47da-bf60-4fc4-9219-00700a33cc4a",
   "metadata": {},
   "outputs": [],
   "source": [
    "def max_sales(sales):\n",
    "    max_element=sales[0]\n",
    "    for i in sales[1:]:\n",
    "     if i>max_element:\n",
    "        max_element=i\n",
    "    \n",
    "    return max_element"
   ]
  },
  {
   "cell_type": "code",
   "execution_count": 30,
   "id": "79815eb8-df00-4d3d-994b-25a596d77f39",
   "metadata": {},
   "outputs": [
    {
     "data": {
      "text/plain": [
       "34234234"
      ]
     },
     "execution_count": 30,
     "metadata": {},
     "output_type": "execute_result"
    }
   ],
   "source": [
    "max_sales(sales)"
   ]
  },
  {
   "cell_type": "code",
   "execution_count": 36,
   "id": "6de746c6-0c6f-4bf8-9f5c-abb16a5f6f54",
   "metadata": {},
   "outputs": [],
   "source": [
    "company=['ola','uber','rapido','indrive','adani','tata']\n",
    "def add_hashtag(company):\n",
    "    result=[]\n",
    "    for i in company:\n",
    "        result.append('#'+i.upper())\n",
    "    return result\n",
    "    "
   ]
  },
  {
   "cell_type": "code",
   "execution_count": 37,
   "id": "f157a6c5-2bec-4792-a2c4-7dd32945da36",
   "metadata": {},
   "outputs": [
    {
     "data": {
      "text/plain": [
       "['#OLA', '#UBER', '#RAPIDO', '#INDRIVE', '#ADANI', '#TATA']"
      ]
     },
     "execution_count": 37,
     "metadata": {},
     "output_type": "execute_result"
    }
   ],
   "source": [
    "add_hashtag(company)"
   ]
  },
  {
   "cell_type": "code",
   "execution_count": 13,
   "id": "5328b76d-5130-41de-82a2-e1e0b47adc28",
   "metadata": {},
   "outputs": [],
   "source": [
    "def store_records(name,age,sec,roll_no,clas):\n",
    "    data={'name':name,'age':age,'sec':sec,'roll_no':roll_no,'class':clas}\n",
    "    import pandas as pd\n",
    "    result=pd.DataFrame(data,index=[2])\n",
    "    return result\n",
    "    "
   ]
  },
  {
   "cell_type": "code",
   "execution_count": 15,
   "id": "2be1d5fb-18cf-4ba0-88b6-17cf08f98d9f",
   "metadata": {},
   "outputs": [
    {
     "data": {
      "text/html": [
       "<div>\n",
       "<style scoped>\n",
       "    .dataframe tbody tr th:only-of-type {\n",
       "        vertical-align: middle;\n",
       "    }\n",
       "\n",
       "    .dataframe tbody tr th {\n",
       "        vertical-align: top;\n",
       "    }\n",
       "\n",
       "    .dataframe thead th {\n",
       "        text-align: right;\n",
       "    }\n",
       "</style>\n",
       "<table border=\"1\" class=\"dataframe\">\n",
       "  <thead>\n",
       "    <tr style=\"text-align: right;\">\n",
       "      <th></th>\n",
       "      <th>name</th>\n",
       "      <th>age</th>\n",
       "      <th>sec</th>\n",
       "      <th>roll_no</th>\n",
       "      <th>class</th>\n",
       "    </tr>\n",
       "  </thead>\n",
       "  <tbody>\n",
       "    <tr>\n",
       "      <th>2</th>\n",
       "      <td>mohan</td>\n",
       "      <td>21</td>\n",
       "      <td>A</td>\n",
       "      <td>12</td>\n",
       "      <td>12</td>\n",
       "    </tr>\n",
       "  </tbody>\n",
       "</table>\n",
       "</div>"
      ],
      "text/plain": [
       "    name  age sec  roll_no  class\n",
       "2  mohan   21   A       12     12"
      ]
     },
     "metadata": {},
     "output_type": "display_data"
    },
    {
     "data": {
      "text/html": [
       "<div>\n",
       "<style scoped>\n",
       "    .dataframe tbody tr th:only-of-type {\n",
       "        vertical-align: middle;\n",
       "    }\n",
       "\n",
       "    .dataframe tbody tr th {\n",
       "        vertical-align: top;\n",
       "    }\n",
       "\n",
       "    .dataframe thead th {\n",
       "        text-align: right;\n",
       "    }\n",
       "</style>\n",
       "<table border=\"1\" class=\"dataframe\">\n",
       "  <thead>\n",
       "    <tr style=\"text-align: right;\">\n",
       "      <th></th>\n",
       "      <th>name</th>\n",
       "      <th>age</th>\n",
       "      <th>sec</th>\n",
       "      <th>roll_no</th>\n",
       "      <th>class</th>\n",
       "    </tr>\n",
       "  </thead>\n",
       "  <tbody>\n",
       "    <tr>\n",
       "      <th>2</th>\n",
       "      <td>mohan</td>\n",
       "      <td>21</td>\n",
       "      <td>A</td>\n",
       "      <td>12</td>\n",
       "      <td>12</td>\n",
       "    </tr>\n",
       "  </tbody>\n",
       "</table>\n",
       "</div>"
      ],
      "text/plain": [
       "    name  age sec  roll_no  class\n",
       "2  mohan   21   A       12     12"
      ]
     },
     "metadata": {},
     "output_type": "display_data"
    }
   ],
   "source": [
    "display(store_records('mohan',21,'A',12,12))\n",
    "display(store_records('mohan',21,'A',12,12))"
   ]
  },
  {
   "cell_type": "code",
   "execution_count": 18,
   "id": "ca09a524-00ac-48a1-a613-2901a2eddd95",
   "metadata": {},
   "outputs": [],
   "source": [
    "def students_records(**kwargs):\n",
    "    import pandas as pd\n",
    "    try:\n",
    "        result = pd.DataFrame(kwargs)\n",
    "        return result\n",
    "    except:\n",
    "        result=pd.DataFrame(kwargs,index=[1])"
   ]
  },
  {
   "cell_type": "code",
   "execution_count": 19,
   "id": "55e991b2-05c0-46e6-bffb-fee21983735a",
   "metadata": {},
   "outputs": [
    {
     "ename": "ValueError",
     "evalue": "If using all scalar values, you must pass an index",
     "output_type": "error",
     "traceback": [
      "\u001b[1;31m---------------------------------------------------------------------------\u001b[0m",
      "\u001b[1;31mValueError\u001b[0m                                Traceback (most recent call last)",
      "Cell \u001b[1;32mIn[19], line 1\u001b[0m\n\u001b[1;32m----> 1\u001b[0m students_records(name\u001b[38;5;241m=\u001b[39m\u001b[38;5;124m'\u001b[39m\u001b[38;5;124myash\u001b[39m\u001b[38;5;124m'\u001b[39m\n\u001b[0;32m      2\u001b[0m                  ,age\u001b[38;5;241m=\u001b[39m\u001b[38;5;124m'\u001b[39m\u001b[38;5;124m20\u001b[39m\u001b[38;5;124m'\u001b[39m\n\u001b[0;32m      3\u001b[0m                  ,sec\u001b[38;5;241m=\u001b[39m\u001b[38;5;124m'\u001b[39m\u001b[38;5;124mA\u001b[39m\u001b[38;5;124m'\u001b[39m\n\u001b[0;32m      4\u001b[0m                  ,rollno\u001b[38;5;241m=\u001b[39m\u001b[38;5;241m75\u001b[39m)\n",
      "Cell \u001b[1;32mIn[18], line 5\u001b[0m, in \u001b[0;36mstudents_records\u001b[1;34m(**kwargs)\u001b[0m\n\u001b[0;32m      3\u001b[0m \u001b[38;5;28;01mif\u001b[39;00m \u001b[38;5;28mtype\u001b[39m(keys[\u001b[38;5;241m0\u001b[39m])\u001b[38;5;241m==\u001b[39m\u001b[38;5;28mstr\u001b[39m:\n\u001b[0;32m      4\u001b[0m     \u001b[38;5;28;01mimport\u001b[39;00m\u001b[38;5;250m \u001b[39m\u001b[38;5;21;01mpandas\u001b[39;00m\u001b[38;5;250m \u001b[39m\u001b[38;5;28;01mas\u001b[39;00m\u001b[38;5;250m \u001b[39m\u001b[38;5;21;01mpd\u001b[39;00m\n\u001b[1;32m----> 5\u001b[0m     result\u001b[38;5;241m=\u001b[39mpd\u001b[38;5;241m.\u001b[39mDataFrame(kwargs)\n\u001b[0;32m      6\u001b[0m     \u001b[38;5;28;01mreturn\u001b[39;00m result\n\u001b[0;32m      7\u001b[0m \u001b[38;5;28;01melse\u001b[39;00m:\n",
      "File \u001b[1;32m~\\anaconda3\\Lib\\site-packages\\pandas\\core\\frame.py:778\u001b[0m, in \u001b[0;36mDataFrame.__init__\u001b[1;34m(self, data, index, columns, dtype, copy)\u001b[0m\n\u001b[0;32m    772\u001b[0m     mgr \u001b[38;5;241m=\u001b[39m \u001b[38;5;28mself\u001b[39m\u001b[38;5;241m.\u001b[39m_init_mgr(\n\u001b[0;32m    773\u001b[0m         data, axes\u001b[38;5;241m=\u001b[39m{\u001b[38;5;124m\"\u001b[39m\u001b[38;5;124mindex\u001b[39m\u001b[38;5;124m\"\u001b[39m: index, \u001b[38;5;124m\"\u001b[39m\u001b[38;5;124mcolumns\u001b[39m\u001b[38;5;124m\"\u001b[39m: columns}, dtype\u001b[38;5;241m=\u001b[39mdtype, copy\u001b[38;5;241m=\u001b[39mcopy\n\u001b[0;32m    774\u001b[0m     )\n\u001b[0;32m    776\u001b[0m \u001b[38;5;28;01melif\u001b[39;00m \u001b[38;5;28misinstance\u001b[39m(data, \u001b[38;5;28mdict\u001b[39m):\n\u001b[0;32m    777\u001b[0m     \u001b[38;5;66;03m# GH#38939 de facto copy defaults to False only in non-dict cases\u001b[39;00m\n\u001b[1;32m--> 778\u001b[0m     mgr \u001b[38;5;241m=\u001b[39m dict_to_mgr(data, index, columns, dtype\u001b[38;5;241m=\u001b[39mdtype, copy\u001b[38;5;241m=\u001b[39mcopy, typ\u001b[38;5;241m=\u001b[39mmanager)\n\u001b[0;32m    779\u001b[0m \u001b[38;5;28;01melif\u001b[39;00m \u001b[38;5;28misinstance\u001b[39m(data, ma\u001b[38;5;241m.\u001b[39mMaskedArray):\n\u001b[0;32m    780\u001b[0m     \u001b[38;5;28;01mfrom\u001b[39;00m\u001b[38;5;250m \u001b[39m\u001b[38;5;21;01mnumpy\u001b[39;00m\u001b[38;5;21;01m.\u001b[39;00m\u001b[38;5;21;01mma\u001b[39;00m\u001b[38;5;250m \u001b[39m\u001b[38;5;28;01mimport\u001b[39;00m mrecords\n",
      "File \u001b[1;32m~\\anaconda3\\Lib\\site-packages\\pandas\\core\\internals\\construction.py:503\u001b[0m, in \u001b[0;36mdict_to_mgr\u001b[1;34m(data, index, columns, dtype, typ, copy)\u001b[0m\n\u001b[0;32m    499\u001b[0m     \u001b[38;5;28;01melse\u001b[39;00m:\n\u001b[0;32m    500\u001b[0m         \u001b[38;5;66;03m# dtype check to exclude e.g. range objects, scalars\u001b[39;00m\n\u001b[0;32m    501\u001b[0m         arrays \u001b[38;5;241m=\u001b[39m [x\u001b[38;5;241m.\u001b[39mcopy() \u001b[38;5;28;01mif\u001b[39;00m \u001b[38;5;28mhasattr\u001b[39m(x, \u001b[38;5;124m\"\u001b[39m\u001b[38;5;124mdtype\u001b[39m\u001b[38;5;124m\"\u001b[39m) \u001b[38;5;28;01melse\u001b[39;00m x \u001b[38;5;28;01mfor\u001b[39;00m x \u001b[38;5;129;01min\u001b[39;00m arrays]\n\u001b[1;32m--> 503\u001b[0m \u001b[38;5;28;01mreturn\u001b[39;00m arrays_to_mgr(arrays, columns, index, dtype\u001b[38;5;241m=\u001b[39mdtype, typ\u001b[38;5;241m=\u001b[39mtyp, consolidate\u001b[38;5;241m=\u001b[39mcopy)\n",
      "File \u001b[1;32m~\\anaconda3\\Lib\\site-packages\\pandas\\core\\internals\\construction.py:114\u001b[0m, in \u001b[0;36marrays_to_mgr\u001b[1;34m(arrays, columns, index, dtype, verify_integrity, typ, consolidate)\u001b[0m\n\u001b[0;32m    111\u001b[0m \u001b[38;5;28;01mif\u001b[39;00m verify_integrity:\n\u001b[0;32m    112\u001b[0m     \u001b[38;5;66;03m# figure out the index, if necessary\u001b[39;00m\n\u001b[0;32m    113\u001b[0m     \u001b[38;5;28;01mif\u001b[39;00m index \u001b[38;5;129;01mis\u001b[39;00m \u001b[38;5;28;01mNone\u001b[39;00m:\n\u001b[1;32m--> 114\u001b[0m         index \u001b[38;5;241m=\u001b[39m _extract_index(arrays)\n\u001b[0;32m    115\u001b[0m     \u001b[38;5;28;01melse\u001b[39;00m:\n\u001b[0;32m    116\u001b[0m         index \u001b[38;5;241m=\u001b[39m ensure_index(index)\n",
      "File \u001b[1;32m~\\anaconda3\\Lib\\site-packages\\pandas\\core\\internals\\construction.py:667\u001b[0m, in \u001b[0;36m_extract_index\u001b[1;34m(data)\u001b[0m\n\u001b[0;32m    664\u001b[0m         \u001b[38;5;28;01mraise\u001b[39;00m \u001b[38;5;167;01mValueError\u001b[39;00m(\u001b[38;5;124m\"\u001b[39m\u001b[38;5;124mPer-column arrays must each be 1-dimensional\u001b[39m\u001b[38;5;124m\"\u001b[39m)\n\u001b[0;32m    666\u001b[0m \u001b[38;5;28;01mif\u001b[39;00m \u001b[38;5;129;01mnot\u001b[39;00m indexes \u001b[38;5;129;01mand\u001b[39;00m \u001b[38;5;129;01mnot\u001b[39;00m raw_lengths:\n\u001b[1;32m--> 667\u001b[0m     \u001b[38;5;28;01mraise\u001b[39;00m \u001b[38;5;167;01mValueError\u001b[39;00m(\u001b[38;5;124m\"\u001b[39m\u001b[38;5;124mIf using all scalar values, you must pass an index\u001b[39m\u001b[38;5;124m\"\u001b[39m)\n\u001b[0;32m    669\u001b[0m \u001b[38;5;28;01mif\u001b[39;00m have_series:\n\u001b[0;32m    670\u001b[0m     index \u001b[38;5;241m=\u001b[39m union_indexes(indexes)\n",
      "\u001b[1;31mValueError\u001b[0m: If using all scalar values, you must pass an index"
     ]
    }
   ],
   "source": [
    "students_records(name=['yash','yssh]'\n",
    "                 ,age=[20,51]\n",
    "                 ,sec=['A','A']\n",
    "                 ,rollno=[75,40])"
   ]
  },
  {
   "cell_type": "code",
   "execution_count": null,
   "id": "8ece74b0-bbf2-4bbd-9906-675a16d0f7b4",
   "metadata": {},
   "outputs": [],
   "source": []
  }
 ],
 "metadata": {
  "kernelspec": {
   "display_name": "Python 3 (ipykernel)",
   "language": "python",
   "name": "python3"
  },
  "language_info": {
   "codemirror_mode": {
    "name": "ipython",
    "version": 3
   },
   "file_extension": ".py",
   "mimetype": "text/x-python",
   "name": "python",
   "nbconvert_exporter": "python",
   "pygments_lexer": "ipython3",
   "version": "3.13.5"
  }
 },
 "nbformat": 4,
 "nbformat_minor": 5
}
